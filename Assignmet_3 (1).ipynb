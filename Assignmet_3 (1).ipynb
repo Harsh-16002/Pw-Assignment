{
  "nbformat": 4,
  "nbformat_minor": 0,
  "metadata": {
    "colab": {
      "provenance": []
    },
    "kernelspec": {
      "name": "python3",
      "display_name": "Python 3"
    },
    "language_info": {
      "name": "python"
    }
  },
  "cells": [
    {
      "cell_type": "code",
      "execution_count": null,
      "metadata": {
        "colab": {
          "base_uri": "https://localhost:8080/"
        },
        "id": "dT9eW6TQh9lj",
        "outputId": "749f6a8e-2f87-4f9c-a493-ec3cc10385ad"
      },
      "outputs": [
        {
          "output_type": "stream",
          "name": "stdout",
          "text": [
            "olleh\n"
          ]
        }
      ],
      "source": [
        "#1 Write a code to reverse a string\n",
        "\n",
        "my_string = \"hello\"\n",
        "\n",
        "reversed_string = my_string[::-1]\n",
        "\n",
        "print(reversed_string)"
      ]
    },
    {
      "cell_type": "code",
      "source": [
        " #2 Write a code to count the number of vowels in a string\n",
        "\n",
        "s = \"Hello World\"\n",
        "count = 0\n",
        "for char in s:\n",
        "    if char.lower() in 'aeiou':\n",
        "        count += 1\n",
        "print(count)\n",
        "\n"
      ],
      "metadata": {
        "colab": {
          "base_uri": "https://localhost:8080/"
        },
        "id": "U9z43bhUiBHh",
        "outputId": "113e7807-0f7b-4285-bc15-3378e430ea65"
      },
      "execution_count": null,
      "outputs": [
        {
          "output_type": "stream",
          "name": "stdout",
          "text": [
            "3\n"
          ]
        }
      ]
    },
    {
      "cell_type": "code",
      "source": [
        "#3 Write a code to check if a given string is a palindrome or not\n",
        "\n",
        "\n",
        "s = input(\"Enter a sring\")\n",
        "if s != s[::-1]:\n",
        "    print(\"The String is not palindrome\")\n",
        "else:\n",
        "    print(\"String is palindrome\")\n"
      ],
      "metadata": {
        "colab": {
          "base_uri": "https://localhost:8080/"
        },
        "id": "h36X0tpwiDcf",
        "outputId": "0d9f2067-f41d-47ae-8d8a-a8a2ca90f1bf"
      },
      "execution_count": null,
      "outputs": [
        {
          "output_type": "stream",
          "name": "stdout",
          "text": [
            "Enter a sringradar\n",
            "String is palindrome\n"
          ]
        }
      ]
    },
    {
      "cell_type": "code",
      "source": [
        "#4 Write a code to check if two given strings are anagrams of each other\n",
        "\n",
        "s1 = \"listen\"\n",
        "s2 = \"silent\"\n",
        "\n",
        "if sorted(s1) == sorted(s2):\n",
        "    print(\"The strings are anagrams\")\n",
        "else:\n",
        "    print(\"The strings are not anagrams\")\n"
      ],
      "metadata": {
        "id": "tRDAj7poiICN"
      },
      "execution_count": null,
      "outputs": []
    },
    {
      "cell_type": "code",
      "source": [
        "#5 Write a code to find all occurrences of a given substring within another string\n",
        "\n",
        "\n",
        "s = \"Hello, World! Hello again! Hello!\"\n",
        "substring = \"Hello\"\n",
        "\n",
        "indexes = [i for i in range(len(s)) if s.startswith(substring, i)]\n",
        "print(indexes)\n"
      ],
      "metadata": {
        "colab": {
          "base_uri": "https://localhost:8080/"
        },
        "id": "LFCM-4hziKjX",
        "outputId": "046787ba-172d-4de1-8e11-9eaaf76ee998"
      },
      "execution_count": null,
      "outputs": [
        {
          "output_type": "stream",
          "name": "stdout",
          "text": [
            "[0, 14, 27]\n"
          ]
        }
      ]
    },
    {
      "cell_type": "code",
      "source": [
        "#6 Write a code to perform basic string compression using the counts of repeated characters\n",
        "\n",
        "s = \"aaabbbbbccddd\"\n",
        "compressed = []\n",
        "count = 1\n",
        "\n",
        "for i in range(1, len(s)):\n",
        "    if s[i] == s[i - 1]:\n",
        "        count += 1\n",
        "    else:\n",
        "        compressed.append(s[i - 1] + str(count))\n",
        "        count = 1\n",
        "\n",
        "compressed.append(s[-1] + str(count))\n",
        "print(\"\".join(compressed))  # Output: \"a3b5c2d3\"\n"
      ],
      "metadata": {
        "id": "3DwBaIz-iM6L",
        "colab": {
          "base_uri": "https://localhost:8080/"
        },
        "outputId": "6c37b881-8eaf-4440-d43e-7706204038e1"
      },
      "execution_count": 5,
      "outputs": [
        {
          "output_type": "stream",
          "name": "stdout",
          "text": [
            "a3b5c2d3\n"
          ]
        }
      ]
    },
    {
      "cell_type": "code",
      "source": [
        "#7 Write a code to determine if a string has all unique characters\n",
        "\n",
        "s = \"hello\"\n",
        "if len(s) == len(set(s)):\n",
        "    print(\"All characters are unique\")\n",
        "else:\n",
        "    print(\"Not all characters are unique\")"
      ],
      "metadata": {
        "id": "aZfSv6WMiSoQ",
        "colab": {
          "base_uri": "https://localhost:8080/"
        },
        "outputId": "80c28325-3f2d-4c64-9ffa-c9749ba3ef40"
      },
      "execution_count": 6,
      "outputs": [
        {
          "output_type": "stream",
          "name": "stdout",
          "text": [
            "Not all characters are unique\n"
          ]
        }
      ]
    },
    {
      "cell_type": "code",
      "source": [
        "#8  Write a code to convert a given string to uppercase or lowercase\n",
        "\n",
        "# Convert to uppercase\n",
        "s = \"hello\"\n",
        "print(s.upper())  # Output: \"HELLO\"\n",
        "\n",
        "# Convert to lowercase\n",
        "s = \"HELLO\"\n",
        "print(s.lower())  # Output: \"hello\"\n"
      ],
      "metadata": {
        "id": "jSq3AGtZiV6q",
        "colab": {
          "base_uri": "https://localhost:8080/"
        },
        "outputId": "7ff9e0bf-cc0c-42a9-8367-8833025ed3a3"
      },
      "execution_count": 7,
      "outputs": [
        {
          "output_type": "stream",
          "name": "stdout",
          "text": [
            "HELLO\n",
            "hello\n"
          ]
        }
      ]
    },
    {
      "cell_type": "code",
      "source": [
        "#9 Write a code to count the number of words in a string\n",
        "\n",
        "s = \"Hello World, this is a test string.\"\n",
        "\n",
        "words = s.split()\n",
        "print(len(words))  # Output: 7\n"
      ],
      "metadata": {
        "id": "MW_5BQyEiYUF",
        "colab": {
          "base_uri": "https://localhost:8080/"
        },
        "outputId": "8fb28e1a-af15-403f-d408-27bc41ff61c7"
      },
      "execution_count": 8,
      "outputs": [
        {
          "output_type": "stream",
          "name": "stdout",
          "text": [
            "7\n"
          ]
        }
      ]
    },
    {
      "cell_type": "code",
      "source": [
        "#10  Write a code to concatenate two strings without using the + operator\n",
        "\n",
        "str1 = \"Hello\"\n",
        "str2 = \"World\"\n",
        "\n",
        "\n",
        "result = \"\".join([str1, str2])\n",
        "print(result)  # Output: \"HelloWorld\"\n"
      ],
      "metadata": {
        "id": "S-zK_wnpiat2",
        "colab": {
          "base_uri": "https://localhost:8080/"
        },
        "outputId": "a2ccc90a-ff93-4aa0-f2b5-c8175717ac9f"
      },
      "execution_count": 9,
      "outputs": [
        {
          "output_type": "stream",
          "name": "stdout",
          "text": [
            "HelloWorld\n"
          ]
        }
      ]
    },
    {
      "cell_type": "code",
      "source": [
        "#11 Write a code to remove all occurrences of a specific element from a list\n",
        "\n",
        "my_list = [1, 2, 3, 4, 2, 2, 5]\n",
        "element_to_remove = 2\n",
        "my_list = [i for i in my_list if i != element_to_remove]\n",
        "print(my_list)  # Output: [1, 3, 4, 5]\n"
      ],
      "metadata": {
        "id": "mSZr0D2fifMM",
        "colab": {
          "base_uri": "https://localhost:8080/"
        },
        "outputId": "ff9f8a34-f655-4644-a43c-05c12b77ef67"
      },
      "execution_count": 10,
      "outputs": [
        {
          "output_type": "stream",
          "name": "stdout",
          "text": [
            "[1, 3, 4, 5]\n"
          ]
        }
      ]
    },
    {
      "cell_type": "code",
      "source": [
        "#12  Implement a code to find the second largest number in a given list of integers\n",
        "\n",
        "\n",
        "nums = [10, 20, 30, 40, 50]\n",
        "nums_sorted = sorted(nums)\n",
        "print(nums_sorted[-2])  # Output: 40\n",
        "\n"
      ],
      "metadata": {
        "id": "ki9mAFmYinsz",
        "colab": {
          "base_uri": "https://localhost:8080/"
        },
        "outputId": "18a2553b-a5e0-4ef6-dd53-4a7af9572d12"
      },
      "execution_count": 11,
      "outputs": [
        {
          "output_type": "stream",
          "name": "stdout",
          "text": [
            "40\n"
          ]
        }
      ]
    },
    {
      "cell_type": "code",
      "source": [
        "#13 Create a code to count the occurrences of each element in a list and return a dictionary with elements as\n",
        "# keys and their counts as values\n",
        "\n",
        "my_list = [1, 2, 2, 3, 3, 3, 4, 4, 4, 4]\n",
        "count_dict = {}\n",
        "for elem in my_list:\n",
        "    if elem in count_dict:\n",
        "        count_dict[elem] += 1\n",
        "    else:\n",
        "        count_dict[elem] = 1\n",
        "print(count_dict)  # Output: {1: 1, 2: 2, 3: 3, 4: 4}\n"
      ],
      "metadata": {
        "id": "G2n483cGiofe",
        "colab": {
          "base_uri": "https://localhost:8080/"
        },
        "outputId": "540a047a-e269-420f-da91-bc2b5b14bb46"
      },
      "execution_count": 12,
      "outputs": [
        {
          "output_type": "stream",
          "name": "stdout",
          "text": [
            "{1: 1, 2: 2, 3: 3, 4: 4}\n"
          ]
        }
      ]
    },
    {
      "cell_type": "code",
      "source": [
        "#14  Write a code to reverse a list in-place without using any built-in reverse functions\n",
        "\n",
        "my_list = [1, 2, 3, 4, 5]\n",
        "left = 0\n",
        "right = len(my_list) - 1\n",
        "\n",
        "while left < right:\n",
        "    my_list[left], my_list[right] = my_list[right], my_list[left]\n",
        "    left += 1\n",
        "    right -= 1\n",
        "\n",
        "print(my_list)  # Output: [5, 4, 3, 2, 1]\n"
      ],
      "metadata": {
        "id": "ZomL9gvFisD-",
        "colab": {
          "base_uri": "https://localhost:8080/"
        },
        "outputId": "c82bd8bb-05e9-42a2-8f05-7e5184d68aaf"
      },
      "execution_count": 13,
      "outputs": [
        {
          "output_type": "stream",
          "name": "stdout",
          "text": [
            "[5, 4, 3, 2, 1]\n"
          ]
        }
      ]
    },
    {
      "cell_type": "code",
      "source": [
        "# 15 Implement a code to find and remove duplicates from a list while preserving the original order of\n",
        "# elements\n",
        "\n",
        "my_list = [1, 2, 2, 3, 4, 4, 5, 6, 6, 7]\n",
        "\n",
        "seen = set()\n",
        "result = [x for x in my_list if not (x in seen or seen.add(x))]\n",
        "\n",
        "print(result)  # Output: [1, 2, 3, 4, 5, 6, 7]\n"
      ],
      "metadata": {
        "id": "RmOLPSLtixJ1",
        "colab": {
          "base_uri": "https://localhost:8080/"
        },
        "outputId": "a7432b50-8c5c-4276-a438-18c3ce533324"
      },
      "execution_count": 14,
      "outputs": [
        {
          "output_type": "stream",
          "name": "stdout",
          "text": [
            "[1, 2, 3, 4, 5, 6, 7]\n"
          ]
        }
      ]
    },
    {
      "cell_type": "code",
      "source": [
        "# 16 Create a code to check if a given list is sorted (either in ascending or descending order) or not\n",
        "\n",
        "my_list = [1, 2, 3, 4, 5]\n",
        "\n",
        "if all(my_list[i] <= my_list[i+1] for i in range(len(my_list)-1)) or all(my_list[i] >= my_list[i+1] for i in range(len(my_list)-1)):\n",
        "    print(\"The list is sorted.\")\n",
        "else:\n",
        "    print(\"The list is not sorted.\")\n"
      ],
      "metadata": {
        "id": "Ete1X9oGi0uj",
        "colab": {
          "base_uri": "https://localhost:8080/"
        },
        "outputId": "8dc5affc-e73c-4c4f-d353-92d7b0636826"
      },
      "execution_count": 15,
      "outputs": [
        {
          "output_type": "stream",
          "name": "stdout",
          "text": [
            "The list is sorted.\n"
          ]
        }
      ]
    },
    {
      "cell_type": "code",
      "source": [
        "#17 Write a code to merge two sorted lists into a single sorted list\n",
        "\n",
        "list1 = [1, 3, 5]\n",
        "list2 = [2, 4, 6]\n",
        "\n",
        "merged_list = sorted(list1 + list2)\n",
        "print(merged_list)  # Output: [1, 2, 3, 4, 5, 6]\n"
      ],
      "metadata": {
        "id": "v0amg69mizCm",
        "colab": {
          "base_uri": "https://localhost:8080/"
        },
        "outputId": "18d1d34a-d101-442c-cad0-95049db58897"
      },
      "execution_count": 16,
      "outputs": [
        {
          "output_type": "stream",
          "name": "stdout",
          "text": [
            "[1, 2, 3, 4, 5, 6]\n"
          ]
        }
      ]
    },
    {
      "cell_type": "code",
      "source": [
        "#18 Implement a code to find the intersection of two given lists\n",
        "\n",
        "list1 = [1, 2, 3, 4, 5]\n",
        "list2 = [4, 5, 6, 7, 8]\n",
        "\n",
        "intersection = [value for value in list1 if value in list2]\n",
        "print(intersection)  # Output: [4, 5]\n"
      ],
      "metadata": {
        "id": "Zm6St-37i4co",
        "colab": {
          "base_uri": "https://localhost:8080/"
        },
        "outputId": "1425de09-ea27-4096-df73-cb79a20dab88"
      },
      "execution_count": 17,
      "outputs": [
        {
          "output_type": "stream",
          "name": "stdout",
          "text": [
            "[4, 5]\n"
          ]
        }
      ]
    },
    {
      "cell_type": "code",
      "source": [
        "#19  Create a code to find the union of two lists without duplicates\n",
        "\n",
        "list1 = [1, 2, 3, 4, 5]\n",
        "list2 = [4, 5, 6, 7, 8]\n",
        "\n",
        "union = list(set(list1) | set(list2))\n",
        "print(union)  # Output: [1, 2, 3, 4, 5, 6, 7, 8]\n"
      ],
      "metadata": {
        "id": "5HlKhdyJi4kd",
        "colab": {
          "base_uri": "https://localhost:8080/"
        },
        "outputId": "e8861f85-6387-461f-f7f9-9148789dade7"
      },
      "execution_count": 18,
      "outputs": [
        {
          "output_type": "stream",
          "name": "stdout",
          "text": [
            "[1, 2, 3, 4, 5, 6, 7, 8]\n"
          ]
        }
      ]
    },
    {
      "cell_type": "code",
      "source": [
        "#20  Write a code to shuffle a given list randomly without using any built-in shuffle function\n",
        "\n",
        "import random\n",
        "\n",
        "my_list = [1, 2, 3, 4, 5]\n",
        "for i in range(len(my_list)):\n",
        "    j = random.randint(0, len(my_list) - 1)\n",
        "    my_list[i], my_list[j] = my_list[j], my_list[i]\n",
        "print(my_list)\n",
        "\n"
      ],
      "metadata": {
        "id": "0lTPCM5Pi-T2",
        "colab": {
          "base_uri": "https://localhost:8080/"
        },
        "outputId": "cf6564bc-18dd-4d6f-cc37-8849dc95a0cf"
      },
      "execution_count": 19,
      "outputs": [
        {
          "output_type": "stream",
          "name": "stdout",
          "text": [
            "[3, 2, 4, 1, 5]\n"
          ]
        }
      ]
    },
    {
      "cell_type": "code",
      "source": [
        "# 21 Write a code that takes two tuples as input and returns a new tuple containing elements that are common to both input tuples\n",
        "\n",
        "tuple1 = (1, 2, 3, 4, 5)\n",
        "tuple2 = (4, 5, 6, 7, 8)\n",
        "\n",
        "common_elements = tuple(set(tuple1) & set(tuple2))\n",
        "print(common_elements)  # Output: (4, 5)"
      ],
      "metadata": {
        "id": "YujCxvgmi-ZK",
        "colab": {
          "base_uri": "https://localhost:8080/"
        },
        "outputId": "c48938e5-1e8b-4558-a365-932326606ac9"
      },
      "execution_count": 20,
      "outputs": [
        {
          "output_type": "stream",
          "name": "stdout",
          "text": [
            "(4, 5)\n"
          ]
        }
      ]
    },
    {
      "cell_type": "code",
      "source": [
        "#22 Create a code that prompts the user to enter two sets of integers separated by commas. Then, print the intersection of these two sets\n",
        "\n",
        "\n",
        "set1 = input(\"Enter the first set of integers (separated by commas): \")\n",
        "\n",
        "set1 = set(map(int, set1.split(\",\")))\n",
        "\n",
        "set2 = input(\"Enter the second set of integers (separated by commas): \")\n",
        "\n",
        "set2 = set(map(int, set2.split(\",\")))\n",
        "\n",
        "intersection = set1 & set2\n",
        "\n",
        "print(\"Intersection:\", intersection)\n"
      ],
      "metadata": {
        "id": "hQeTHOrMjGMS",
        "colab": {
          "base_uri": "https://localhost:8080/"
        },
        "outputId": "aa640204-48a7-45f1-b2ea-b0e5e07a5e09"
      },
      "execution_count": 23,
      "outputs": [
        {
          "output_type": "stream",
          "name": "stdout",
          "text": [
            "Enter the first set of integers (separated by commas): 3,2,3,2\n",
            "Enter the second set of integers (separated by commas): 23,4,2,2\n",
            "Intersection: {2}\n"
          ]
        }
      ]
    },
    {
      "cell_type": "code",
      "source": [
        "#23 Write a code to concatenate two tuples. The function should take two tuples as input and return a new tuple containing elements from both input tuples.\n",
        "\n",
        "tuple1 = (1, 2, 3)\n",
        "tuple2 = (4, 5, 6)\n",
        "\n",
        "concatenated_tuple = tuple1 + tuple2\n",
        "print(concatenated_tuple)  # Output: (1, 2, 3, 4, 5, 6)"
      ],
      "metadata": {
        "id": "5X9_p9IjjG8l",
        "colab": {
          "base_uri": "https://localhost:8080/"
        },
        "outputId": "873c14a3-9e6d-46a6-d749-37e9e777b596"
      },
      "execution_count": 24,
      "outputs": [
        {
          "output_type": "stream",
          "name": "stdout",
          "text": [
            "(1, 2, 3, 4, 5, 6)\n"
          ]
        }
      ]
    },
    {
      "cell_type": "code",
      "source": [
        "#24 Develop a code that prompts the user to input two sets of strings. Then, print the elements that are present in the first set but not in the second set\n",
        "\n",
        "set1 = input(\"Enter the first set of strings (separated by commas): \")\n",
        "\n",
        "set1 = set(set1.split(\",\"))\n",
        "\n",
        "set2 = input(\"Enter the second set of strings (separated by commas): \")\n",
        "\n",
        "set2 = set(set2.split(\",\"))\n",
        "\n",
        "difference = set1 - set2\n",
        "\n",
        "print(\"Elements present in the first set but not in the second set:\")\n",
        "for element in difference:\n",
        "    print(element)\n"
      ],
      "metadata": {
        "id": "nTTaEWoyjJy_",
        "colab": {
          "base_uri": "https://localhost:8080/"
        },
        "outputId": "41287a07-7f5a-4517-d1e3-2d2f53a8fa4b"
      },
      "execution_count": 25,
      "outputs": [
        {
          "output_type": "stream",
          "name": "stdout",
          "text": [
            "Enter the first set of strings (separated by commas): Harsh,verma\n",
            "Enter the second set of strings (separated by commas): Mansi,verma\n",
            "Elements present in the first set but not in the second set:\n",
            "Harsh\n"
          ]
        }
      ]
    },
    {
      "cell_type": "code",
      "source": [
        "# 25  Create a code that takes a tuple and two integers as input. The function should return a new tuple containing elements from the original tuple within the specified range of indices\n",
        "\n",
        "\n",
        "tup = (1, 2, 3, 4, 5, 6)\n",
        "start = 1\n",
        "end = 4\n",
        "new_tup = tup[start:end]\n",
        "print(new_tup)  # Output: (2, 3, 4)\n"
      ],
      "metadata": {
        "id": "mS2ydTShjJ2d",
        "colab": {
          "base_uri": "https://localhost:8080/"
        },
        "outputId": "442f5f6b-56ed-4adc-d5fd-587452a5da2c"
      },
      "execution_count": 26,
      "outputs": [
        {
          "output_type": "stream",
          "name": "stdout",
          "text": [
            "(2, 3, 4)\n"
          ]
        }
      ]
    },
    {
      "cell_type": "code",
      "source": [
        "# 26   Write a code that prompts the user to input two sets of characters. Then, print the union of these two sets\n",
        "\n",
        "set1 = input(\"Enter the first set of characters (separated by commas): \")\n",
        "\n",
        "set1 = set(set1.replace(\" \", \"\"))\n",
        "\n",
        "set2 = input(\"Enter the second set of characters (separated by commas): \")\n",
        "\n",
        "set2 = set(set2.replace(\" \", \"\"))\n",
        "\n",
        "union = set1 | set2\n",
        "\n",
        "print(\"Union:\", union)\n"
      ],
      "metadata": {
        "id": "zTRdWEFbjN-e",
        "colab": {
          "base_uri": "https://localhost:8080/"
        },
        "outputId": "f072bec1-b958-40d1-ccc3-b3f3adfa1fd8"
      },
      "execution_count": 27,
      "outputs": [
        {
          "output_type": "stream",
          "name": "stdout",
          "text": [
            "Enter the first set of characters (separated by commas): A,B,S,D\n",
            "Enter the second set of characters (separated by commas): E,A,D,S\n",
            "Union: {'D', ',', 'B', 'E', 'S', 'A'}\n"
          ]
        }
      ]
    },
    {
      "cell_type": "code",
      "source": [
        "#27  Develop a code that takes a tuple of integers as input. The function should return the maximum and minimum values from the tuple using tuple unpacking\n",
        "\n",
        "\n",
        "tup = (1, 2, 3, 4, 5)\n",
        "\n",
        "max_val, *_, min_val = sorted(tup)\n",
        "\n",
        "print(\"Maximum value:\", max_val)\n",
        "print(\"Minimum value:\", min_val)"
      ],
      "metadata": {
        "id": "J3_724lijOB7",
        "colab": {
          "base_uri": "https://localhost:8080/"
        },
        "outputId": "202b75b6-6c1b-4f8b-87cf-024e206a6c2b"
      },
      "execution_count": 28,
      "outputs": [
        {
          "output_type": "stream",
          "name": "stdout",
          "text": [
            "Maximum value: 1\n",
            "Minimum value: 5\n"
          ]
        }
      ]
    },
    {
      "cell_type": "code",
      "source": [
        "#28  Create a code that defines two sets of integers. Then, print the union, intersection, and difference of these two sets\n",
        "\n",
        "set1 = {1, 2, 3, 4, 5}\n",
        "set2 = {4, 5, 6, 7, 8}\n",
        "\n",
        "print(\"Union:\", set1 | set2)\n",
        "\n",
        "print(\"Intersection:\", set1 & set2)\n",
        "\n",
        "print(\"Difference:\", set1 - set2)\n",
        "\n",
        "\n"
      ],
      "metadata": {
        "id": "aFgSrAe8jRt0",
        "colab": {
          "base_uri": "https://localhost:8080/"
        },
        "outputId": "7caf1280-7b92-4c0e-9949-634d7cec7038"
      },
      "execution_count": 29,
      "outputs": [
        {
          "output_type": "stream",
          "name": "stdout",
          "text": [
            "Union: {1, 2, 3, 4, 5, 6, 7, 8}\n",
            "Intersection: {4, 5}\n",
            "Difference: {1, 2, 3}\n"
          ]
        }
      ]
    },
    {
      "cell_type": "code",
      "source": [
        "#29 Write a code that takes a tuple and an element as input. The function should return the count of occurrences of the given element in the tuple\n",
        "\n",
        "\n",
        "tup = (1, 2, 2, 3, 4, 2)\n",
        "elem = 2\n",
        "count = tup.count(elem)\n",
        "print(count)  # Output: 3\n"
      ],
      "metadata": {
        "id": "-3vSFZRKjRxL",
        "colab": {
          "base_uri": "https://localhost:8080/"
        },
        "outputId": "ed9ca048-7af4-421e-e30a-ea7377071fdd"
      },
      "execution_count": 30,
      "outputs": [
        {
          "output_type": "stream",
          "name": "stdout",
          "text": [
            "3\n"
          ]
        }
      ]
    },
    {
      "cell_type": "code",
      "source": [
        "#30  Develop a code that prompts the user to input two sets of strings. Then, print the symmetric difference of these two sets\n",
        "\n",
        "set1 = input(\"Enter the first set of strings (separated by commas): \")\n",
        "set1 = set(set1.split(\",\"))\n",
        "\n",
        "set2 = input(\"Enter the second set of strings (separated by commas): \")\n",
        "set2 = set(set2.split(\",\"))\n",
        "\n",
        "symmetric_difference = set1 ^ set2\n",
        "\n",
        "print(\"Symmetric Difference:\", symmetric_difference)\n"
      ],
      "metadata": {
        "id": "w8P4Qm7-jWc-",
        "colab": {
          "base_uri": "https://localhost:8080/"
        },
        "outputId": "5839e207-3fbe-4416-fdc7-135d2aeb6f51"
      },
      "execution_count": 31,
      "outputs": [
        {
          "output_type": "stream",
          "name": "stdout",
          "text": [
            "Enter the first set of strings (separated by commas): Hello , World\n",
            "Enter the second set of strings (separated by commas): How ,Are,You\n",
            "Symmetric Difference: {'Are', 'You', 'How ', ' World', 'Hello '}\n"
          ]
        }
      ]
    },
    {
      "cell_type": "code",
      "source": [
        "#31  Write a code that takes a list of words as input and returns a dictionary where the keys are unique words and the values are the frequencies of those words in the input list\n",
        "\n",
        "word_list = input(\"Enter a list of words (separated by commas): \").split(\",\")\n",
        "frequency_dict = {}\n",
        "for word in word_list:\n",
        "    if word in frequency_dict:\n",
        "        frequency_dict[word] += 1\n",
        "    else:\n",
        "        frequency_dict[word] = 1\n",
        "print(frequency_dict)\n"
      ],
      "metadata": {
        "id": "AF3M--1YjYE1",
        "colab": {
          "base_uri": "https://localhost:8080/"
        },
        "outputId": "851a4215-7b31-482e-cc49-d05ea39c149d"
      },
      "execution_count": 32,
      "outputs": [
        {
          "output_type": "stream",
          "name": "stdout",
          "text": [
            "Enter a list of words (separated by commas): Hello,How,Are,You\n",
            "{'Hello': 1, 'How': 1, 'Are': 1, 'You': 1}\n"
          ]
        }
      ]
    },
    {
      "cell_type": "code",
      "source": [
        "#32 Write a code that takes two dictionaries as input and merges them into a single dictionary. If there are common keys, the values should be added together\n",
        "\n",
        "dict1 = {\"a\": 1, \"b\": 2, \"c\": 3}\n",
        "dict2 = {\"b\": 2, \"c\": 4, \"d\": 5}\n",
        "\n",
        "merged_dict = {key: dict1.get(key, 0) + dict2.get(key, 0) for key in set(dict1) | set(dict2)}\n",
        "\n",
        "print(merged_dict)\n"
      ],
      "metadata": {
        "id": "tK9RkAtmjbE6",
        "colab": {
          "base_uri": "https://localhost:8080/"
        },
        "outputId": "a074b602-87e9-48e8-dc4b-86f8c20b6f3c"
      },
      "execution_count": 34,
      "outputs": [
        {
          "output_type": "stream",
          "name": "stdout",
          "text": [
            "{'c': 7, 'd': 5, 'a': 1, 'b': 4}\n"
          ]
        }
      ]
    },
    {
      "cell_type": "code",
      "source": [
        "#33 Write a code to access a value in a nested dictionary. The function should take the dictionary and a list of keys as input, and return the corresponding value. If any of the keys do not exist in the dictionary, the function should return None\n",
        "\n",
        "def access_nested_dict(d, keys):\n",
        "    for key in keys:\n",
        "        if key not in d:\n",
        "            return None\n",
        "        d = d[key]\n",
        "    return d\n",
        "\n",
        "# Example usage:\n",
        "nested_dict = {\"a\": {\"b\": {\"c\": 1}}}\n",
        "keys = [\"a\", \"b\", \"c\"]\n",
        "print(access_nested_dict(nested_dict, keys))  # Output: 1\n",
        "\n",
        "keys = [\"a\", \"b\", \"d\"]\n",
        "print(access_nested_dict(nested_dict, keys))  # Output: None\n"
      ],
      "metadata": {
        "id": "FcLGAxs1jb9T",
        "colab": {
          "base_uri": "https://localhost:8080/"
        },
        "outputId": "bda17797-6f11-4796-d219-8a851f9702b7"
      },
      "execution_count": 33,
      "outputs": [
        {
          "output_type": "stream",
          "name": "stdout",
          "text": [
            "1\n",
            "None\n"
          ]
        }
      ]
    },
    {
      "cell_type": "code",
      "source": [
        "#34  Write a code that takes a dictionary as input and returns a sorted version of it based on the values. You can choose whether to sort in ascending or descending order\n",
        "\n",
        "d = {\"a\": 3, \"b\": 1, \"c\": 2}\n",
        "sorted_d = dict(sorted(d.items(), key=lambda item: item[1]))\n",
        "print(sorted_d)  # Output: {'b': 1, 'c': 2, 'a': 3}\n",
        "\n",
        "sorted_d_desc = dict(sorted(d.items(), key=lambda item: item[1], reverse=True))\n",
        "print(sorted_d_desc)  # Output: {'a': 3, 'c': 2, 'b': 1}\n"
      ],
      "metadata": {
        "id": "MowGjH3ejeBB",
        "colab": {
          "base_uri": "https://localhost:8080/"
        },
        "outputId": "92ee1153-f002-4dc9-8983-9d96174e9fc2"
      },
      "execution_count": 35,
      "outputs": [
        {
          "output_type": "stream",
          "name": "stdout",
          "text": [
            "{'b': 1, 'c': 2, 'a': 3}\n",
            "{'a': 3, 'c': 2, 'b': 1}\n"
          ]
        }
      ]
    },
    {
      "cell_type": "code",
      "source": [
        "# 35 Write a code that inverts a dictionary, swapping keys and values. Ensure that the inverted dictionary correctly handles cases where multiple keys have the same value by storing the keys as a list in the inverted dictionary.\n",
        "\n",
        "d = {\"a\": 1, \"b\": 2, \"c\": 1, \"d\": 3}\n",
        "\n",
        "inverted_d = {}\n",
        "for k, v in d.items():\n",
        "    if v not in inverted_d:\n",
        "        inverted_d[v] = [k]\n",
        "    else:\n",
        "        inverted_d[v].append(k)\n",
        "\n",
        "print(inverted_d)  # Output: {1: ['a', 'c'], 2: ['b'], 3: ['d']}\n"
      ],
      "metadata": {
        "id": "DPHOf1kgjeHV",
        "colab": {
          "base_uri": "https://localhost:8080/"
        },
        "outputId": "27c9322a-e51b-4732-fa21-1877a64a9834"
      },
      "execution_count": 36,
      "outputs": [
        {
          "output_type": "stream",
          "name": "stdout",
          "text": [
            "{1: ['a', 'c'], 2: ['b'], 3: ['d']}\n"
          ]
        }
      ]
    }
  ]
}